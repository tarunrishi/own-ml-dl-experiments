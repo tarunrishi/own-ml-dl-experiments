{
 "cells": [
  {
   "cell_type": "markdown",
   "id": "c43617b3",
   "metadata": {},
   "source": [
    "# Support Vector Machines (SVM) \n",
    "### Support Vector Machines (SVM) is a supervised learning algorithm that constructs an optimal hyperplane to separate data points into distinct classes, excelling in both binary and multi-class classification tasks. By leveraging kernel functions (e.g., linear, polynomial, or radial basis function), SVM can handle non-linear relationships, making it highly effective for predicting wine quality categories based on physicochemical properties like alcohol and acidity. The algorithm assumes that data is separable (with a kernel if necessary) and benefits from a clear margin between classes, though it does not require strict distributional assumptions. Its strength lies in its ability to manage high-dimensional data and provide robust generalization with a small number of support vectors, but it can be computationally intensive, especially with large datasets, and sensitive to the choice of kernel and hyperparameters (e.g., C and gamma).\n",
    "\n",
    "### Use SVM as a baseline for classification with tuning of the kernel and regularization parameters to optimize performance, particularly for deployment in precision-driven applications.\n",
    "\n",
    "| Aspect | Details |\n",
    "| :- | :- |\n",
    "| Use For           | Classification (e.g., wine quality prediction, image recognition)<br>Can be extended to regression with SVR |\n",
    "| Key Assumptions   | - Data is separable (with a kernel if non-linear)<br>- Independent observations<br>- Clear margin between classes for optimal performance |\n",
    "| Advantages        | - Effective in high-dimensional spaces<br>- Robust with a small number of support vectors<br>- Flexible with various kernel functions |\n",
    "| Disadvantages     | - Computationally intensive for large datasets<br>- Sensitive to hyperparameter choices (C, gamma)<br>- Struggles with overlapping classes |\n",
    "| Avoid When        | - Large datasets requiring low latency<br>- Highly overlapping or noisy data<br>- Need for highly interpretable models |\n",
    "| Real-World Use Case | Wine quality prediction (e.g., classifying quality based on chemical properties)<br>Image classification (e.g., identifying objects in medical images) |"
   ]
  },
  {
   "cell_type": "markdown",
   "id": "9026f3da",
   "metadata": {},
   "source": [
    "## Problem Description: \n",
    "### Predict the quality of red wine (rated from 0 to 10) based on physicochemical properties like alcohol content, pH, and volatile acidity. \n",
    "\n",
    "Using Kaggle dataset https://www.kaggle.com/datasets/uciml/red-wine-quality-cortez-et-al-2009"
   ]
  },
  {
   "cell_type": "markdown",
   "id": "52f5b505",
   "metadata": {},
   "source": [
    "## Modified Approach to improve accuracy:\n",
    "- feature engineering adding new features\n",
    "- tune Hyperparameters - C (regularization) and gamma (kernel coefficient)\n",
    "- balance classes - apply class weights to handle imbalance\n",
    "- kernels - test linear or poly kernels alongside rbf to see if a different kernel fits better"
   ]
  },
  {
   "cell_type": "code",
   "execution_count": 10,
   "id": "7ae47009",
   "metadata": {},
   "outputs": [],
   "source": [
    "import pandas as pd\n",
    "import numpy as np\n",
    "from sklearn.model_selection import train_test_split, GridSearchCV\n",
    "from sklearn.svm import SVC\n",
    "from sklearn.metrics import accuracy_score, confusion_matrix, classification_report\n",
    "from sklearn.preprocessing import StandardScaler\n",
    "import matplotlib.pyplot as plt\n",
    "import seaborn as sns\n",
    "import joblib\n",
    "import os"
   ]
  },
  {
   "cell_type": "code",
   "execution_count": 11,
   "id": "7ec44907",
   "metadata": {},
   "outputs": [
    {
     "name": "stdout",
     "output_type": "stream",
     "text": [
      "Dataset loaded, shape: (1599, 12)\n",
      "Features shape: (1599, 12) Target shape: (1599,)\n"
     ]
    }
   ],
   "source": [
    "project_dir = './06_support_vector_machine'\n",
    "\n",
    "# load  dataset\n",
    "data = pd.read_csv(project_dir + '/data/winequality-red.csv')\n",
    "print(\"Dataset loaded, shape:\", data.shape)\n",
    "\n",
    "# feature engineering: add total acidity - to increase accuracy\n",
    "data['total_acidity'] = data['fixed acidity'] + data['volatile acidity'] + data['citric acid']\n",
    "\n",
    "# select relevant features and target \n",
    "features = ['fixed acidity', 'volatile acidity', 'citric acid', 'residual sugar', 'chlorides', \n",
    "            'free sulfur dioxide', 'total sulfur dioxide', 'density', 'pH', 'sulphates', 'alcohol', \n",
    "            'total_acidity']\n",
    "X = data[features]\n",
    "y = data['quality']  \n",
    "print(\"Features shape:\", X.shape, \"Target shape:\", y.shape)\n",
    "\n",
    "# scale features to improve model performance.\n",
    "scaler = StandardScaler()\n",
    "X = pd.DataFrame(scaler.fit_transform(X), columns=features)"
   ]
  },
  {
   "cell_type": "code",
   "execution_count": 12,
   "id": "c20de722",
   "metadata": {},
   "outputs": [
    {
     "name": "stdout",
     "output_type": "stream",
     "text": [
      "Train set shape: (1279, 12) Test set shape: (320, 12)\n"
     ]
    }
   ],
   "source": [
    "# split data into training and testing sets.\n",
    "X_train, X_test, y_train, y_test = train_test_split(X, y, test_size=0.2, random_state=4)\n",
    "print(\"Train set shape:\", X_train.shape, \"Test set shape:\", X_test.shape)"
   ]
  },
  {
   "cell_type": "code",
   "execution_count": 13,
   "id": "59cbeb38",
   "metadata": {},
   "outputs": [
    {
     "name": "stdout",
     "output_type": "stream",
     "text": [
      "Best Parameters: {'C': 10.0, 'class_weight': None, 'gamma': 'auto', 'kernel': 'rbf'}\n"
     ]
    }
   ],
   "source": [
    "# train the SVM model with hyperparameter tuning\n",
    "param_grid = {\n",
    "    'C': [0.01, 0.1, 1.0, 10.0, 100.0],  # regularization parameter - use wider range\n",
    "    'gamma': ['scale', 'auto', 0.1, 0.01],  # kernel coefficient\n",
    "    'kernel': ['rbf', 'linear'],  # test different kernels\n",
    "    'class_weight': [None, 'balanced']  # handle class imbalance\n",
    "}\n",
    "svm_model = SVC(decision_function_shape='ovr', random_state=4)\n",
    "grid_search = GridSearchCV(svm_model, param_grid, cv=5, scoring='accuracy', n_jobs=-1)\n",
    "grid_search.fit(X_train, y_train)\n",
    "\n",
    "best_svm = grid_search.best_estimator_\n",
    "print(f'Best Parameters: {grid_search.best_params_}')"
   ]
  },
  {
   "cell_type": "code",
   "execution_count": 14,
   "id": "62d5c3d1",
   "metadata": {},
   "outputs": [
    {
     "name": "stdout",
     "output_type": "stream",
     "text": [
      "Accuracy: 0.62\n",
      "Confusion Matrix:\n",
      "[[  0   0   1   1   0   0]\n",
      " [  0   0   8   3   0   0]\n",
      " [  1   3 106  36   0   0]\n",
      " [  0   0  36  70  12   0]\n",
      " [  0   0   2  16  23   0]\n",
      " [  0   0   0   1   1   0]]\n",
      "Classification Report:\n",
      "              precision    recall  f1-score   support\n",
      "\n",
      "           3       0.00      0.00      0.00         2\n",
      "           4       0.00      0.00      0.00        11\n",
      "           5       0.69      0.73      0.71       146\n",
      "           6       0.55      0.59      0.57       118\n",
      "           7       0.64      0.56      0.60        41\n",
      "           8       0.00      0.00      0.00         2\n",
      "\n",
      "    accuracy                           0.62       320\n",
      "   macro avg       0.31      0.31      0.31       320\n",
      "weighted avg       0.60      0.62      0.61       320\n",
      "\n"
     ]
    },
    {
     "name": "stderr",
     "output_type": "stream",
     "text": [
      "/home/tarun/miniconda3/envs/own-ml-dl-experiments/lib/python3.12/site-packages/sklearn/metrics/_classification.py:1706: UndefinedMetricWarning: Precision is ill-defined and being set to 0.0 in labels with no predicted samples. Use `zero_division` parameter to control this behavior.\n",
      "  _warn_prf(average, modifier, f\"{metric.capitalize()} is\", result.shape[0])\n",
      "/home/tarun/miniconda3/envs/own-ml-dl-experiments/lib/python3.12/site-packages/sklearn/metrics/_classification.py:1706: UndefinedMetricWarning: Precision is ill-defined and being set to 0.0 in labels with no predicted samples. Use `zero_division` parameter to control this behavior.\n",
      "  _warn_prf(average, modifier, f\"{metric.capitalize()} is\", result.shape[0])\n",
      "/home/tarun/miniconda3/envs/own-ml-dl-experiments/lib/python3.12/site-packages/sklearn/metrics/_classification.py:1706: UndefinedMetricWarning: Precision is ill-defined and being set to 0.0 in labels with no predicted samples. Use `zero_division` parameter to control this behavior.\n",
      "  _warn_prf(average, modifier, f\"{metric.capitalize()} is\", result.shape[0])\n",
      "/home/tarun/miniconda3/envs/own-ml-dl-experiments/lib/python3.12/site-packages/sklearn/metrics/_classification.py:1706: UndefinedMetricWarning: Precision is ill-defined and being set to 0.0 in labels with no predicted samples. Use `zero_division` parameter to control this behavior.\n",
      "  _warn_prf(average, modifier, f\"{metric.capitalize()} is\", result.shape[0])\n",
      "/home/tarun/miniconda3/envs/own-ml-dl-experiments/lib/python3.12/site-packages/sklearn/metrics/_classification.py:1706: UndefinedMetricWarning: Precision is ill-defined and being set to 0.0 in labels with no predicted samples. Use `zero_division` parameter to control this behavior.\n",
      "  _warn_prf(average, modifier, f\"{metric.capitalize()} is\", result.shape[0])\n",
      "/home/tarun/miniconda3/envs/own-ml-dl-experiments/lib/python3.12/site-packages/sklearn/metrics/_classification.py:1706: UndefinedMetricWarning: Precision is ill-defined and being set to 0.0 in labels with no predicted samples. Use `zero_division` parameter to control this behavior.\n",
      "  _warn_prf(average, modifier, f\"{metric.capitalize()} is\", result.shape[0])\n"
     ]
    }
   ],
   "source": [
    "# predict and evaluate the model\n",
    "y_pred = best_svm.predict(X_test)\n",
    "accuracy = accuracy_score(y_test, y_pred)\n",
    "conf_matrix = confusion_matrix(y_test, y_pred)\n",
    "class_report = classification_report(y_test, y_pred, output_dict=True)\n",
    "\n",
    "print(f'Accuracy: {accuracy:.2f}')\n",
    "print('Confusion Matrix:')\n",
    "print(conf_matrix)\n",
    "print('Classification Report:')\n",
    "print(classification_report(y_test, y_pred))"
   ]
  },
  {
   "cell_type": "code",
   "execution_count": 15,
   "id": "4b4688af",
   "metadata": {},
   "outputs": [
    {
     "name": "stdout",
     "output_type": "stream",
     "text": [
      "Feature importance visualization not available for non-linear kernels (e.g., RBF).\n"
     ]
    }
   ],
   "source": [
    "# visualize feature importance (approximated with coefficients for linear kernel if selected)\n",
    "if grid_search.best_params_['kernel'] == 'linear':\n",
    "    feature_importance = pd.DataFrame({'feature': features, 'importance': np.abs(best_svm.coef_[0]) if len(best_svm.coef_.shape) > 1 else np.abs(best_svm.coef_)})\n",
    "    feature_importance = feature_importance.sort_values('importance', ascending=False)\n",
    "    plt.figure(figsize=(10, 6))\n",
    "    sns.barplot(x='importance', y='feature', data=feature_importance)\n",
    "    plt.title('Feature Importance in SVM (Linear Kernel)')\n",
    "    plt.show()\n",
    "else:\n",
    "    print(\"Feature importance visualization not available for non-linear kernels (e.g., RBF).\")"
   ]
  },
  {
   "cell_type": "code",
   "execution_count": 16,
   "id": "44c8e930",
   "metadata": {},
   "outputs": [
    {
     "data": {
      "image/png": "[encoded data removed]",
      "text/plain": [
       "<Figure size 800x600 with 2 Axes>"
      ]
     },
     "metadata": {},
     "output_type": "display_data"
    }
   ],
   "source": [
    "# visualize confusion matrix\n",
    "plt.figure(figsize=(8, 6))\n",
    "sns.heatmap(conf_matrix, annot=True, fmt='d', cmap='Blues', xticklabels=sorted(data['quality'].unique()), yticklabels=sorted(data['quality'].unique()))\n",
    "plt.xlabel('Predicted')\n",
    "plt.ylabel('Actual')\n",
    "plt.title('Confusion Matrix for Wine Quality Prediction')\n",
    "plt.show()"
   ]
  },
  {
   "cell_type": "code",
   "execution_count": 17,
   "id": "8b5f314b",
   "metadata": {},
   "outputs": [
    {
     "name": "stdout",
     "output_type": "stream",
     "text": [
      "Model saved as ./06_support_vector_machine/model/wine_quality_svm_model.pkl\n"
     ]
    }
   ],
   "source": [
    "# save the trained model2 to a file using joblib for later use\n",
    "model_dir = project_dir + '/model' \n",
    "os.makedirs(model_dir, exist_ok=True)\n",
    "model_filename = os.path.join(model_dir, 'wine_quality_svm_model.pkl')\n",
    "joblib.dump(best_svm, model_filename)\n",
    "print(f'Model saved as {model_filename}')"
   ]
  },
  {
   "cell_type": "code",
   "execution_count": 18,
   "id": "7eeef9e5",
   "metadata": {},
   "outputs": [
    {
     "name": "stdout",
     "output_type": "stream",
     "text": [
      "Predicted Wine Quality for sample input: 5\n"
     ]
    },
    {
     "name": "stderr",
     "output_type": "stream",
     "text": [
      "/home/tarun/miniconda3/envs/own-ml-dl-experiments/lib/python3.12/site-packages/sklearn/utils/validation.py:2749: UserWarning: X does not have valid feature names, but SVC was fitted with feature names\n",
      "  warnings.warn(\n"
     ]
    }
   ],
   "source": [
    "# load the model and run a prediction test \n",
    "loaded_model = joblib.load(model_filename)\n",
    "\n",
    "sample_data = pd.DataFrame(\n",
    "    [[7.4, 0.7, 0.0, 1.9, 0.076, 11.0, 34.0, 0.9978, 3.51, 0.56, 9.4, 8.1]],\n",
    "    columns=features\n",
    ")\n",
    "sample_input_scaled = scaler.transform(sample_data)\n",
    "sample_prediction = loaded_model.predict(sample_input_scaled)\n",
    "print(f'Predicted Wine Quality for sample input: {sample_prediction[0]}')"
   ]
  }
 ],
 "metadata": {
  "kernelspec": {
   "display_name": "own-ml-dl-experiments",
   "language": "python",
   "name": "python3"
  },
  "language_info": {
   "codemirror_mode": {
    "name": "ipython",
    "version": 3
   },
   "file_extension": ".py",
   "mimetype": "text/x-python",
   "name": "python",
   "nbconvert_exporter": "python",
   "pygments_lexer": "ipython3",
   "version": "3.12.11"
  }
 },
 "nbformat": 4,
 "nbformat_minor": 5
}
