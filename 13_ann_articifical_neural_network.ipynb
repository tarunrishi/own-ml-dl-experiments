{
 "cells": [
  {
   "cell_type": "markdown",
   "id": "c43617b3",
   "metadata": {},
   "source": [
    "# Artificial Neural Network\n",
    "### Artificial Neural Network (ANN) is a supervised learning algorithm that mimics the human brain by processing data through interconnected layers of neurons, learning complex patterns to predict outcomes. It excels in classifying wine quality categories (e.g., predicting quality levels based on physicochemical properties like alcohol and total acidity) and can handle both classification and regression tasks, requiring extensive training to adjust weights and biases. The algorithm assumes that the data can be modeled with non-linear transformations across layers, which enables flexibility but may not hold for datasets with insufficient samples or poor feature representation. Its strength lies in its ability to capture intricate relationships in high-dimensional data, but it can be computationally intensive, prone to overfitting without regularization, and sensitive to hyperparameter choices (e.g., layer size, learning rate).\n",
    "\n",
    "### Use ANN for your supervised learning prototypes, with tuning of architecture and regularization to optimize performance, particularly for deployment in predictive analytics or deep learning systems.\n",
    "\n",
    "| Aspect | Details |\n",
    "| :- | :- |\n",
    "| Use For           | Classification (e.g., wine quality prediction, image recognition)<br>Can be extended to regression with appropriate output layers |\n",
    "| Key Assumptions   | - Data can be modeled with non-linear transformations<br>- Independent observations<br>- Sufficient data for weight optimization |\n",
    "| Advantages        | - Captures complex, non-linear patterns<br>- Highly flexible with layered architecture<br>- Effective for high-dimensional data |\n",
    "| Disadvantages     | - Computationally intensive during training<br>- Prone to overfitting without regularization<br>- Sensitive to hyperparameter tuning |\n",
    "| Avoid When        | - Very small datasets with limited samples<br>- Need for highly interpretable models<br>- Real-time applications with low latency |\n",
    "| Real-World Use Case | Wine quality prediction (e.g., classifying quality based on chemical properties)<br>Image recognition (e.g., identifying objects in photographs) |"
   ]
  },
  {
   "cell_type": "markdown",
   "id": "9026f3da",
   "metadata": {},
   "source": [
    "## Problem Description: \n",
    "### Predict the quality of red wine (rated from 3 to 8) based on physicochemical properties like alcohol content, pH, and volatile acidity. This is a multi-class classification problem where ANNs can learn complex, non-linear patterns through layered neurons.\n",
    "\n",
    "Using dataset https://www.kaggle.com/datasets/uciml/red-wine-quality-cortez-et-al-2009"
   ]
  },
  {
   "cell_type": "code",
   "execution_count": 1,
   "id": "7ae47009",
   "metadata": {},
   "outputs": [
    {
     "name": "stderr",
     "output_type": "stream",
     "text": [
      "2025-06-13 19:23:00.943329: I tensorflow/core/util/port.cc:153] oneDNN custom operations are on. You may see slightly different numerical results due to floating-point round-off errors from different computation orders. To turn them off, set the environment variable `TF_ENABLE_ONEDNN_OPTS=0`.\n",
      "2025-06-13 19:23:01.052129: E external/local_xla/xla/stream_executor/cuda/cuda_fft.cc:467] Unable to register cuFFT factory: Attempting to register factory for plugin cuFFT when one has already been registered\n",
      "WARNING: All log messages before absl::InitializeLog() is called are written to STDERR\n",
      "E0000 00:00:1749838981.126309 1403842 cuda_dnn.cc:8579] Unable to register cuDNN factory: Attempting to register factory for plugin cuDNN when one has already been registered\n",
      "E0000 00:00:1749838981.147752 1403842 cuda_blas.cc:1407] Unable to register cuBLAS factory: Attempting to register factory for plugin cuBLAS when one has already been registered\n",
      "W0000 00:00:1749838981.242925 1403842 computation_placer.cc:177] computation placer already registered. Please check linkage and avoid linking the same target more than once.\n",
      "W0000 00:00:1749838981.242948 1403842 computation_placer.cc:177] computation placer already registered. Please check linkage and avoid linking the same target more than once.\n",
      "W0000 00:00:1749838981.242949 1403842 computation_placer.cc:177] computation placer already registered. Please check linkage and avoid linking the same target more than once.\n",
      "W0000 00:00:1749838981.242950 1403842 computation_placer.cc:177] computation placer already registered. Please check linkage and avoid linking the same target more than once.\n",
      "2025-06-13 19:23:01.260177: I tensorflow/core/platform/cpu_feature_guard.cc:210] This TensorFlow binary is optimized to use available CPU instructions in performance-critical operations.\n",
      "To enable the following instructions: AVX2 AVX_VNNI FMA, in other operations, rebuild TensorFlow with the appropriate compiler flags.\n"
     ]
    }
   ],
   "source": [
    "import pandas as pd\n",
    "import numpy as np\n",
    "import tensorflow as tf\n",
    "from tensorflow.keras.models import Sequential\n",
    "from tensorflow.keras.layers import Dense, Dropout\n",
    "from tensorflow.keras.callbacks import EarlyStopping, ReduceLROnPlateau\n",
    "from tensorflow.keras.utils import to_categorical\n",
    "from tensorflow.keras.optimizers import Adam\n",
    "from sklearn.model_selection import train_test_split\n",
    "from sklearn.metrics import accuracy_score, confusion_matrix, classification_report\n",
    "from sklearn.preprocessing import StandardScaler\n",
    "import matplotlib.pyplot as plt\n",
    "import seaborn as sns\n",
    "import joblib\n",
    "import os"
   ]
  },
  {
   "cell_type": "code",
   "execution_count": 2,
   "id": "079fe4ef",
   "metadata": {},
   "outputs": [],
   "source": [
    "def setup_gpu():\n",
    "    ## tf version\n",
    "    print(\"TensorFlow version:\", tf.__version__)\n",
    "\n",
    "    #### GPU Optimisation code ####\n",
    "    print(\"GPUs:\",tf.config.list_physical_devices('GPU'))\n",
    "\n",
    "    print(\"GPUs: Allocate GPU Memory and create a new session\")\n",
    "\n",
    "    # Get the GPU memory fraction to allocate\n",
    "    gpu_memory_fraction = 0.5\n",
    "\n",
    "    # Create GPUOptions with the fraction of GPU memory to allocate\n",
    "    gpu_options = tf.compat.v1.GPUOptions(per_process_gpu_memory_fraction=gpu_memory_fraction)\n",
    "\n",
    "    # Create a session with the GPUOptions\n",
    "    session = tf.compat.v1.Session(config=tf.compat.v1.ConfigProto(gpu_options=gpu_options))"
   ]
  },
  {
   "cell_type": "code",
   "execution_count": 3,
   "id": "c4d7c70a",
   "metadata": {},
   "outputs": [
    {
     "name": "stdout",
     "output_type": "stream",
     "text": [
      "TensorFlow version: 2.19.0\n",
      "GPUs: [PhysicalDevice(name='/physical_device:GPU:0', device_type='GPU')]\n",
      "GPUs: Allocate GPU Memory and create a new session\n"
     ]
    },
    {
     "name": "stderr",
     "output_type": "stream",
     "text": [
      "I0000 00:00:1749838984.241038 1403842 gpu_device.cc:2019] Created device /job:localhost/replica:0/task:0/device:GPU:0 with 5119 MB memory:  -> device: 0, name: NVIDIA GeForce RTX 3080, pci bus id: 0000:01:00.0, compute capability: 8.6\n"
     ]
    }
   ],
   "source": [
    "setup_gpu()"
   ]
  },
  {
   "cell_type": "code",
   "execution_count": 4,
   "id": "7ec44907",
   "metadata": {},
   "outputs": [
    {
     "name": "stdout",
     "output_type": "stream",
     "text": [
      "Dataset loaded, shape: (1599, 12)\n",
      "Features shape: (1599, 12) Target shape: (1599,)\n",
      "Train set shape: (1279, 12) Test set shape: (320, 12)\n"
     ]
    }
   ],
   "source": [
    "project_dir = './13_ann_articifical_neural_network'\n",
    "\n",
    "# load  dataset\n",
    "data = pd.read_csv(project_dir + '/data/winequality-red.csv')\n",
    "print(\"Dataset loaded, shape:\", data.shape)\n",
    "\n",
    "# feature engineering\n",
    "data['total_acidity'] = data['fixed acidity'] + data['volatile acidity'] + data['citric acid']\n",
    "\n",
    "# select relevant features\n",
    "features = ['fixed acidity', 'volatile acidity', 'citric acid', 'residual sugar', 'chlorides', \n",
    "            'free sulfur dioxide', 'total sulfur dioxide', 'density', 'pH', 'sulphates', 'alcohol', \n",
    "            'total_acidity']\n",
    "\n",
    "X = data[features]\n",
    "y = data['quality'] - 3  # 0-5 for categorical encoding\n",
    "print(\"Features shape:\", X.shape, \"Target shape:\", y.shape)\n",
    "\n",
    "\n",
    "# scale features for better ANN performance\n",
    "scaler = StandardScaler()\n",
    "X = scaler.fit_transform(X)\n",
    "\n",
    "# convert target to one-hot encoding for multi-class classification\n",
    "y = to_categorical(y, num_classes=6)\n",
    "\n",
    "# split data into training and testing sets\n",
    "X_train, X_test, y_train, y_test = train_test_split(X, y, test_size=0.2, random_state=42)\n",
    "print(\"Train set shape:\", X_train.shape, \"Test set shape:\", X_test.shape)"
   ]
  },
  {
   "cell_type": "code",
   "execution_count": 5,
   "id": "c20de722",
   "metadata": {},
   "outputs": [
    {
     "name": "stderr",
     "output_type": "stream",
     "text": [
      "/home/tarun/miniconda3/envs/own-ml-dl-experiments/lib/python3.12/site-packages/keras/src/layers/core/dense.py:93: UserWarning: Do not pass an `input_shape`/`input_dim` argument to a layer. When using Sequential models, prefer using an `Input(shape)` object as the first layer in the model instead.\n",
      "  super().__init__(activity_regularizer=activity_regularizer, **kwargs)\n",
      "I0000 00:00:1749838984.270761 1403842 gpu_device.cc:2019] Created device /job:localhost/replica:0/task:0/device:GPU:0 with 5119 MB memory:  -> device: 0, name: NVIDIA GeForce RTX 3080, pci bus id: 0000:01:00.0, compute capability: 8.6\n"
     ]
    },
    {
     "name": "stdout",
     "output_type": "stream",
     "text": [
      "Epoch 1/50\n"
     ]
    },
    {
     "name": "stderr",
     "output_type": "stream",
     "text": [
      "WARNING: All log messages before absl::InitializeLog() is called are written to STDERR\n",
      "I0000 00:00:1749838985.471739 1403986 service.cc:152] XLA service 0x7f65cc00a810 initialized for platform CUDA (this does not guarantee that XLA will be used). Devices:\n",
      "I0000 00:00:1749838985.471781 1403986 service.cc:160]   StreamExecutor device (0): NVIDIA GeForce RTX 3080, Compute Capability 8.6\n",
      "2025-06-13 19:23:05.492218: I tensorflow/compiler/mlir/tensorflow/utils/dump_mlir_util.cc:269] disabling MLIR crash reproducer, set env var `MLIR_CRASH_REPRODUCER_DIRECTORY` to enable.\n",
      "I0000 00:00:1749838985.598656 1403986 cuda_dnn.cc:529] Loaded cuDNN version 90300\n"
     ]
    },
    {
     "name": "stdout",
     "output_type": "stream",
     "text": [
      "\u001b[1m1/8\u001b[0m \u001b[32m━━\u001b[0m\u001b[37m━━━━━━━━━━━━━━━━━━\u001b[0m \u001b[1m14s\u001b[0m 2s/step - accuracy: 0.0312 - loss: 1.9619"
     ]
    },
    {
     "name": "stderr",
     "output_type": "stream",
     "text": [
      "I0000 00:00:1749838986.863456 1403986 device_compiler.h:188] Compiled cluster using XLA!  This line is logged at most once for the lifetime of the process.\n"
     ]
    },
    {
     "name": "stdout",
     "output_type": "stream",
     "text": [
      "\u001b[1m8/8\u001b[0m \u001b[32m━━━━━━━━━━━━━━━━━━━━\u001b[0m\u001b[37m\u001b[0m \u001b[1m0s\u001b[0m 189ms/step - accuracy: 0.0282 - loss: 1.9487"
     ]
    },
    {
     "name": "stderr",
     "output_type": "stream",
     "text": [
      "2025-06-13 19:23:08.662608: I external/local_xla/xla/stream_executor/cuda/subprocess_compilation.cc:346] ptxas warning : Registers are spilled to local memory in function 'gemm_fusion_dot_61', 12 bytes spill stores, 12 bytes spill loads\n",
      "\n",
      "2025-06-13 19:23:08.816285: I external/local_xla/xla/stream_executor/cuda/subprocess_compilation.cc:346] ptxas warning : Registers are spilled to local memory in function 'gemm_fusion_dot_61', 8 bytes spill stores, 8 bytes spill loads\n",
      "\n",
      "2025-06-13 19:23:09.004141: I external/local_xla/xla/stream_executor/cuda/subprocess_compilation.cc:346] ptxas warning : Registers are spilled to local memory in function 'gemm_fusion_dot_61', 112 bytes spill stores, 112 bytes spill loads\n",
      "\n"
     ]
    },
    {
     "name": "stdout",
     "output_type": "stream",
     "text": [
      "\u001b[1m8/8\u001b[0m \u001b[32m━━━━━━━━━━━━━━━━━━━━\u001b[0m\u001b[37m\u001b[0m \u001b[1m5s\u001b[0m 368ms/step - accuracy: 0.0288 - loss: 1.9471 - val_accuracy: 0.0469 - val_loss: 1.8812 - learning_rate: 1.0000e-04\n",
      "Epoch 2/50\n",
      "\u001b[1m8/8\u001b[0m \u001b[32m━━━━━━━━━━━━━━━━━━━━\u001b[0m\u001b[37m\u001b[0m \u001b[1m0s\u001b[0m 8ms/step - accuracy: 0.0554 - loss: 1.9080 - val_accuracy: 0.0625 - val_loss: 1.8481 - learning_rate: 1.0000e-04\n",
      "Epoch 3/50\n",
      "\u001b[1m8/8\u001b[0m \u001b[32m━━━━━━━━━━━━━━━━━━━━\u001b[0m\u001b[37m\u001b[0m \u001b[1m0s\u001b[0m 9ms/step - accuracy: 0.0671 - loss: 1.8683 - val_accuracy: 0.1172 - val_loss: 1.8169 - learning_rate: 1.0000e-04\n",
      "Epoch 4/50\n",
      "\u001b[1m8/8\u001b[0m \u001b[32m━━━━━━━━━━━━━━━━━━━━\u001b[0m\u001b[37m\u001b[0m \u001b[1m0s\u001b[0m 9ms/step - accuracy: 0.1016 - loss: 1.8323 - val_accuracy: 0.1719 - val_loss: 1.7872 - learning_rate: 1.0000e-04\n",
      "Epoch 5/50\n",
      "\u001b[1m8/8\u001b[0m \u001b[32m━━━━━━━━━━━━━━━━━━━━\u001b[0m\u001b[37m\u001b[0m \u001b[1m0s\u001b[0m 8ms/step - accuracy: 0.1188 - loss: 1.8190 - val_accuracy: 0.2383 - val_loss: 1.7595 - learning_rate: 1.0000e-04\n",
      "Epoch 6/50\n",
      "\u001b[1m8/8\u001b[0m \u001b[32m━━━━━━━━━━━━━━━━━━━━\u001b[0m\u001b[37m\u001b[0m \u001b[1m0s\u001b[0m 8ms/step - accuracy: 0.1701 - loss: 1.7863 - val_accuracy: 0.3008 - val_loss: 1.7330 - learning_rate: 1.0000e-04\n",
      "Epoch 7/50\n",
      "\u001b[1m8/8\u001b[0m \u001b[32m━━━━━━━━━━━━━━━━━━━━\u001b[0m\u001b[37m\u001b[0m \u001b[1m0s\u001b[0m 8ms/step - accuracy: 0.1931 - loss: 1.7680 - val_accuracy: 0.4023 - val_loss: 1.7075 - learning_rate: 1.0000e-04\n",
      "Epoch 8/50\n",
      "\u001b[1m8/8\u001b[0m \u001b[32m━━━━━━━━━━━━━━━━━━━━\u001b[0m\u001b[37m\u001b[0m \u001b[1m0s\u001b[0m 8ms/step - accuracy: 0.2611 - loss: 1.7397 - val_accuracy: 0.4453 - val_loss: 1.6824 - learning_rate: 1.0000e-04\n",
      "Epoch 9/50\n",
      "\u001b[1m8/8\u001b[0m \u001b[32m━━━━━━━━━━━━━━━━━━━━\u001b[0m\u001b[37m\u001b[0m \u001b[1m0s\u001b[0m 8ms/step - accuracy: 0.3157 - loss: 1.7132 - val_accuracy: 0.5117 - val_loss: 1.6573 - learning_rate: 1.0000e-04\n",
      "Epoch 10/50\n",
      "\u001b[1m8/8\u001b[0m \u001b[32m━━━━━━━━━━━━━━━━━━━━\u001b[0m\u001b[37m\u001b[0m \u001b[1m0s\u001b[0m 8ms/step - accuracy: 0.3828 - loss: 1.6874 - val_accuracy: 0.5625 - val_loss: 1.6315 - learning_rate: 1.0000e-04\n",
      "Epoch 11/50\n",
      "\u001b[1m8/8\u001b[0m \u001b[32m━━━━━━━━━━━━━━━━━━━━\u001b[0m\u001b[37m\u001b[0m \u001b[1m0s\u001b[0m 8ms/step - accuracy: 0.3971 - loss: 1.6778 - val_accuracy: 0.6055 - val_loss: 1.6058 - learning_rate: 1.0000e-04\n",
      "Epoch 12/50\n",
      "\u001b[1m8/8\u001b[0m \u001b[32m━━━━━━━━━━━━━━━━━━━━\u001b[0m\u001b[37m\u001b[0m \u001b[1m0s\u001b[0m 8ms/step - accuracy: 0.4494 - loss: 1.6468 - val_accuracy: 0.6367 - val_loss: 1.5796 - learning_rate: 1.0000e-04\n",
      "Epoch 13/50\n",
      "\u001b[1m8/8\u001b[0m \u001b[32m━━━━━━━━━━━━━━━━━━━━\u001b[0m\u001b[37m\u001b[0m \u001b[1m0s\u001b[0m 8ms/step - accuracy: 0.4776 - loss: 1.6234 - val_accuracy: 0.6484 - val_loss: 1.5527 - learning_rate: 1.0000e-04\n",
      "Epoch 14/50\n",
      "\u001b[1m8/8\u001b[0m \u001b[32m━━━━━━━━━━━━━━━━━━━━\u001b[0m\u001b[37m\u001b[0m \u001b[1m0s\u001b[0m 8ms/step - accuracy: 0.5103 - loss: 1.5871 - val_accuracy: 0.6328 - val_loss: 1.5247 - learning_rate: 1.0000e-04\n",
      "Epoch 15/50\n",
      "\u001b[1m8/8\u001b[0m \u001b[32m━━━━━━━━━━━━━━━━━━━━\u001b[0m\u001b[37m\u001b[0m \u001b[1m0s\u001b[0m 8ms/step - accuracy: 0.5236 - loss: 1.5582 - val_accuracy: 0.6328 - val_loss: 1.4964 - learning_rate: 1.0000e-04\n",
      "Epoch 16/50\n",
      "\u001b[1m8/8\u001b[0m \u001b[32m━━━━━━━━━━━━━━━━━━━━\u001b[0m\u001b[37m\u001b[0m \u001b[1m0s\u001b[0m 8ms/step - accuracy: 0.5120 - loss: 1.5409 - val_accuracy: 0.6367 - val_loss: 1.4681 - learning_rate: 1.0000e-04\n",
      "Epoch 17/50\n",
      "\u001b[1m8/8\u001b[0m \u001b[32m━━━━━━━━━━━━━━━━━━━━\u001b[0m\u001b[37m\u001b[0m \u001b[1m0s\u001b[0m 8ms/step - accuracy: 0.5186 - loss: 1.5253 - val_accuracy: 0.6367 - val_loss: 1.4392 - learning_rate: 1.0000e-04\n",
      "Epoch 18/50\n",
      "\u001b[1m8/8\u001b[0m \u001b[32m━━━━━━━━━━━━━━━━━━━━\u001b[0m\u001b[37m\u001b[0m \u001b[1m0s\u001b[0m 8ms/step - accuracy: 0.5134 - loss: 1.5048 - val_accuracy: 0.6250 - val_loss: 1.4106 - learning_rate: 1.0000e-04\n",
      "Epoch 19/50\n",
      "\u001b[1m8/8\u001b[0m \u001b[32m━━━━━━━━━━━━━━━━━━━━\u001b[0m\u001b[37m\u001b[0m \u001b[1m0s\u001b[0m 9ms/step - accuracy: 0.5440 - loss: 1.4820 - val_accuracy: 0.6211 - val_loss: 1.3827 - learning_rate: 1.0000e-04\n",
      "Epoch 20/50\n",
      "\u001b[1m8/8\u001b[0m \u001b[32m━━━━━━━━━━━━━━━━━━━━\u001b[0m\u001b[37m\u001b[0m \u001b[1m0s\u001b[0m 8ms/step - accuracy: 0.5532 - loss: 1.4499 - val_accuracy: 0.6211 - val_loss: 1.3552 - learning_rate: 1.0000e-04\n",
      "Epoch 21/50\n",
      "\u001b[1m8/8\u001b[0m \u001b[32m━━━━━━━━━━━━━━━━━━━━\u001b[0m\u001b[37m\u001b[0m \u001b[1m0s\u001b[0m 9ms/step - accuracy: 0.5554 - loss: 1.3995 - val_accuracy: 0.6211 - val_loss: 1.3282 - learning_rate: 1.0000e-04\n",
      "Epoch 22/50\n",
      "\u001b[1m8/8\u001b[0m \u001b[32m━━━━━━━━━━━━━━━━━━━━\u001b[0m\u001b[37m\u001b[0m \u001b[1m0s\u001b[0m 8ms/step - accuracy: 0.5528 - loss: 1.3860 - val_accuracy: 0.6289 - val_loss: 1.3020 - learning_rate: 1.0000e-04\n",
      "Epoch 23/50\n",
      "\u001b[1m8/8\u001b[0m \u001b[32m━━━━━━━━━━━━━━━━━━━━\u001b[0m\u001b[37m\u001b[0m \u001b[1m0s\u001b[0m 9ms/step - accuracy: 0.5533 - loss: 1.3712 - val_accuracy: 0.6289 - val_loss: 1.2764 - learning_rate: 1.0000e-04\n",
      "Epoch 24/50\n",
      "\u001b[1m8/8\u001b[0m \u001b[32m━━━━━━━━━━━━━━━━━━━━\u001b[0m\u001b[37m\u001b[0m \u001b[1m0s\u001b[0m 8ms/step - accuracy: 0.5517 - loss: 1.3649 - val_accuracy: 0.6289 - val_loss: 1.2521 - learning_rate: 1.0000e-04\n",
      "Epoch 25/50\n",
      "\u001b[1m8/8\u001b[0m \u001b[32m━━━━━━━━━━━━━━━━━━━━\u001b[0m\u001b[37m\u001b[0m \u001b[1m0s\u001b[0m 8ms/step - accuracy: 0.5404 - loss: 1.3364 - val_accuracy: 0.6250 - val_loss: 1.2283 - learning_rate: 1.0000e-04\n",
      "Epoch 26/50\n",
      "\u001b[1m8/8\u001b[0m \u001b[32m━━━━━━━━━━━━━━━━━━━━\u001b[0m\u001b[37m\u001b[0m \u001b[1m0s\u001b[0m 9ms/step - accuracy: 0.5421 - loss: 1.3212 - val_accuracy: 0.6250 - val_loss: 1.2061 - learning_rate: 1.0000e-04\n",
      "Epoch 27/50\n",
      "\u001b[1m8/8\u001b[0m \u001b[32m━━━━━━━━━━━━━━━━━━━━\u001b[0m\u001b[37m\u001b[0m \u001b[1m0s\u001b[0m 9ms/step - accuracy: 0.5588 - loss: 1.3200 - val_accuracy: 0.6211 - val_loss: 1.1852 - learning_rate: 1.0000e-04\n",
      "Epoch 28/50\n",
      "\u001b[1m8/8\u001b[0m \u001b[32m━━━━━━━━━━━━━━━━━━━━\u001b[0m\u001b[37m\u001b[0m \u001b[1m0s\u001b[0m 8ms/step - accuracy: 0.5463 - loss: 1.3026 - val_accuracy: 0.6172 - val_loss: 1.1651 - learning_rate: 1.0000e-04\n",
      "Epoch 29/50\n",
      "\u001b[1m8/8\u001b[0m \u001b[32m━━━━━━━━━━━━━━━━━━━━\u001b[0m\u001b[37m\u001b[0m \u001b[1m0s\u001b[0m 10ms/step - accuracy: 0.5398 - loss: 1.2905 - val_accuracy: 0.6211 - val_loss: 1.1463 - learning_rate: 1.0000e-04\n",
      "Epoch 30/50\n",
      "\u001b[1m8/8\u001b[0m \u001b[32m━━━━━━━━━━━━━━━━━━━━\u001b[0m\u001b[37m\u001b[0m \u001b[1m0s\u001b[0m 9ms/step - accuracy: 0.5421 - loss: 1.2629 - val_accuracy: 0.6250 - val_loss: 1.1291 - learning_rate: 1.0000e-04\n",
      "Epoch 31/50\n",
      "\u001b[1m8/8\u001b[0m \u001b[32m━━━━━━━━━━━━━━━━━━━━\u001b[0m\u001b[37m\u001b[0m \u001b[1m0s\u001b[0m 8ms/step - accuracy: 0.5485 - loss: 1.2576 - val_accuracy: 0.6328 - val_loss: 1.1128 - learning_rate: 1.0000e-04\n",
      "Epoch 32/50\n",
      "\u001b[1m8/8\u001b[0m \u001b[32m━━━━━━━━━━━━━━━━━━━━\u001b[0m\u001b[37m\u001b[0m \u001b[1m0s\u001b[0m 10ms/step - accuracy: 0.5690 - loss: 1.2466 - val_accuracy: 0.6328 - val_loss: 1.0974 - learning_rate: 1.0000e-04\n",
      "Epoch 33/50\n",
      "\u001b[1m8/8\u001b[0m \u001b[32m━━━━━━━━━━━━━━━━━━━━\u001b[0m\u001b[37m\u001b[0m \u001b[1m0s\u001b[0m 9ms/step - accuracy: 0.5499 - loss: 1.2229 - val_accuracy: 0.6328 - val_loss: 1.0833 - learning_rate: 1.0000e-04\n",
      "Epoch 34/50\n",
      "\u001b[1m8/8\u001b[0m \u001b[32m━━━━━━━━━━━━━━━━━━━━\u001b[0m\u001b[37m\u001b[0m \u001b[1m0s\u001b[0m 9ms/step - accuracy: 0.5786 - loss: 1.1876 - val_accuracy: 0.6328 - val_loss: 1.0703 - learning_rate: 1.0000e-04\n",
      "Epoch 35/50\n",
      "\u001b[1m8/8\u001b[0m \u001b[32m━━━━━━━━━━━━━━━━━━━━\u001b[0m\u001b[37m\u001b[0m \u001b[1m0s\u001b[0m 10ms/step - accuracy: 0.5595 - loss: 1.2025 - val_accuracy: 0.6445 - val_loss: 1.0588 - learning_rate: 1.0000e-04\n",
      "Epoch 36/50\n",
      "\u001b[1m8/8\u001b[0m \u001b[32m━━━━━━━━━━━━━━━━━━━━\u001b[0m\u001b[37m\u001b[0m \u001b[1m0s\u001b[0m 10ms/step - accuracy: 0.5587 - loss: 1.2025 - val_accuracy: 0.6484 - val_loss: 1.0478 - learning_rate: 1.0000e-04\n",
      "Epoch 37/50\n",
      "\u001b[1m8/8\u001b[0m \u001b[32m━━━━━━━━━━━━━━━━━━━━\u001b[0m\u001b[37m\u001b[0m \u001b[1m0s\u001b[0m 10ms/step - accuracy: 0.5676 - loss: 1.1755 - val_accuracy: 0.6719 - val_loss: 1.0374 - learning_rate: 1.0000e-04\n",
      "Epoch 38/50\n",
      "\u001b[1m8/8\u001b[0m \u001b[32m━━━━━━━━━━━━━━━━━━━━\u001b[0m\u001b[37m\u001b[0m \u001b[1m0s\u001b[0m 10ms/step - accuracy: 0.5470 - loss: 1.1877 - val_accuracy: 0.6680 - val_loss: 1.0285 - learning_rate: 1.0000e-04\n",
      "Epoch 39/50\n",
      "\u001b[1m8/8\u001b[0m \u001b[32m━━━━━━━━━━━━━━━━━━━━\u001b[0m\u001b[37m\u001b[0m \u001b[1m0s\u001b[0m 10ms/step - accuracy: 0.5875 - loss: 1.1169 - val_accuracy: 0.6719 - val_loss: 1.0190 - learning_rate: 1.0000e-04\n",
      "Epoch 40/50\n",
      "\u001b[1m8/8\u001b[0m \u001b[32m━━━━━━━━━━━━━━━━━━━━\u001b[0m\u001b[37m\u001b[0m \u001b[1m0s\u001b[0m 10ms/step - accuracy: 0.5682 - loss: 1.1422 - val_accuracy: 0.6719 - val_loss: 1.0112 - learning_rate: 1.0000e-04\n",
      "Epoch 41/50\n",
      "\u001b[1m8/8\u001b[0m \u001b[32m━━━━━━━━━━━━━━━━━━━━\u001b[0m\u001b[37m\u001b[0m \u001b[1m0s\u001b[0m 8ms/step - accuracy: 0.5859 - loss: 1.1448 - val_accuracy: 0.6680 - val_loss: 1.0037 - learning_rate: 1.0000e-04\n",
      "Epoch 42/50\n",
      "\u001b[1m8/8\u001b[0m \u001b[32m━━━━━━━━━━━━━━━━━━━━\u001b[0m\u001b[37m\u001b[0m \u001b[1m0s\u001b[0m 9ms/step - accuracy: 0.5799 - loss: 1.1594 - val_accuracy: 0.6680 - val_loss: 0.9968 - learning_rate: 1.0000e-04\n",
      "Epoch 43/50\n",
      "\u001b[1m8/8\u001b[0m \u001b[32m━━━━━━━━━━━━━━━━━━━━\u001b[0m\u001b[37m\u001b[0m \u001b[1m0s\u001b[0m 10ms/step - accuracy: 0.5952 - loss: 1.1215 - val_accuracy: 0.6641 - val_loss: 0.9900 - learning_rate: 1.0000e-04\n",
      "Epoch 44/50\n",
      "\u001b[1m8/8\u001b[0m \u001b[32m━━━━━━━━━━━━━━━━━━━━\u001b[0m\u001b[37m\u001b[0m \u001b[1m0s\u001b[0m 9ms/step - accuracy: 0.5714 - loss: 1.1411 - val_accuracy: 0.6680 - val_loss: 0.9835 - learning_rate: 1.0000e-04\n",
      "Epoch 45/50\n",
      "\u001b[1m8/8\u001b[0m \u001b[32m━━━━━━━━━━━━━━━━━━━━\u001b[0m\u001b[37m\u001b[0m \u001b[1m0s\u001b[0m 9ms/step - accuracy: 0.5889 - loss: 1.0891 - val_accuracy: 0.6719 - val_loss: 0.9779 - learning_rate: 1.0000e-04\n",
      "Epoch 46/50\n",
      "\u001b[1m8/8\u001b[0m \u001b[32m━━━━━━━━━━━━━━━━━━━━\u001b[0m\u001b[37m\u001b[0m \u001b[1m0s\u001b[0m 10ms/step - accuracy: 0.5575 - loss: 1.1299 - val_accuracy: 0.6680 - val_loss: 0.9733 - learning_rate: 1.0000e-04\n",
      "Epoch 47/50\n",
      "\u001b[1m8/8\u001b[0m \u001b[32m━━━━━━━━━━━━━━━━━━━━\u001b[0m\u001b[37m\u001b[0m \u001b[1m0s\u001b[0m 10ms/step - accuracy: 0.5716 - loss: 1.1022 - val_accuracy: 0.6562 - val_loss: 0.9687 - learning_rate: 1.0000e-04\n",
      "Epoch 48/50\n",
      "\u001b[1m8/8\u001b[0m \u001b[32m━━━━━━━━━━━━━━━━━━━━\u001b[0m\u001b[37m\u001b[0m \u001b[1m0s\u001b[0m 8ms/step - accuracy: 0.5635 - loss: 1.1074 - val_accuracy: 0.6641 - val_loss: 0.9643 - learning_rate: 1.0000e-04\n",
      "Epoch 49/50\n",
      "\u001b[1m8/8\u001b[0m \u001b[32m━━━━━━━━━━━━━━━━━━━━\u001b[0m\u001b[37m\u001b[0m \u001b[1m0s\u001b[0m 9ms/step - accuracy: 0.5780 - loss: 1.0994 - val_accuracy: 0.6641 - val_loss: 0.9602 - learning_rate: 1.0000e-04\n",
      "Epoch 50/50\n",
      "\u001b[1m8/8\u001b[0m \u001b[32m━━━━━━━━━━━━━━━━━━━━\u001b[0m\u001b[37m\u001b[0m \u001b[1m0s\u001b[0m 9ms/step - accuracy: 0.5907 - loss: 1.0942 - val_accuracy: 0.6680 - val_loss: 0.9566 - learning_rate: 1.0000e-04\n"
     ]
    }
   ],
   "source": [
    "# build the ANN model\n",
    "ann_model = Sequential([\n",
    "    Dense(128, activation='relu', input_shape=(len(features),)),\n",
    "    Dropout(0.1),  # Add dropout to prevent overfitting\n",
    "    Dense(64, activation='relu'),\n",
    "    Dropout(0.1),  \n",
    "    Dense(32, activation='relu'),\n",
    "    Dropout(0.1), \n",
    "    Dense(6, activation='softmax')  \n",
    "])\n",
    "\n",
    "\n",
    "# compile the model\n",
    "custom_optimizer = Adam(learning_rate=0.0001) # reduced initial learning rate\n",
    "ann_model.compile(optimizer=custom_optimizer, loss='categorical_crossentropy', metrics=['accuracy'])\n",
    "\n",
    "# define callbacks for early stopping and learning rate reduction\n",
    "early_stopping = EarlyStopping(monitor='val_loss', patience=8, restore_best_weights=True)\n",
    "reduce_lr = ReduceLROnPlateau(monitor='val_loss', factor=0.4, patience=3, min_lr=0.1)\n",
    "\n",
    "# train the ANN model\n",
    "history = ann_model.fit(X_train, y_train, epochs=50, batch_size=128, validation_split=0.2, callbacks=[early_stopping, reduce_lr], verbose=1)"
   ]
  },
  {
   "cell_type": "code",
   "execution_count": 6,
   "id": "59cbeb38",
   "metadata": {},
   "outputs": [
    {
     "name": "stderr",
     "output_type": "stream",
     "text": [
      "2025-06-13 19:23:13.838347: I external/local_xla/xla/stream_executor/cuda/subprocess_compilation.cc:346] ptxas warning : Registers are spilled to local memory in function 'gemm_fusion_dot_18', 4 bytes spill stores, 4 bytes spill loads\n",
      "\n",
      "2025-06-13 19:23:13.908876: I external/local_xla/xla/stream_executor/cuda/subprocess_compilation.cc:346] ptxas warning : Registers are spilled to local memory in function 'gemm_fusion_dot_18', 12 bytes spill stores, 12 bytes spill loads\n",
      "\n"
     ]
    },
    {
     "name": "stdout",
     "output_type": "stream",
     "text": [
      "\u001b[1m10/10\u001b[0m \u001b[32m━━━━━━━━━━━━━━━━━━━━\u001b[0m\u001b[37m\u001b[0m \u001b[1m1s\u001b[0m 2ms/step  \n",
      "Accuracy: 0.57\n",
      "Confusion Matrix:\n",
      "[[  0   0   1   0   0   0]\n",
      " [  0   0   9   1   0   0]\n",
      " [  0   0 102  28   0   0]\n",
      " [  0   0  53  70   9   0]\n",
      " [  0   0   3  30   9   0]\n",
      " [  0   0   0   3   2   0]]\n",
      "Classification Report:\n",
      "              precision    recall  f1-score   support\n",
      "\n",
      "           3       0.00      0.00      0.00         1\n",
      "           4       0.00      0.00      0.00        10\n",
      "           5       0.61      0.78      0.68       130\n",
      "           6       0.53      0.53      0.53       132\n",
      "           7       0.45      0.21      0.29        42\n",
      "           8       0.00      0.00      0.00         5\n",
      "\n",
      "    accuracy                           0.57       320\n",
      "   macro avg       0.26      0.25      0.25       320\n",
      "weighted avg       0.52      0.57      0.53       320\n",
      "\n"
     ]
    },
    {
     "name": "stderr",
     "output_type": "stream",
     "text": [
      "/home/tarun/miniconda3/envs/own-ml-dl-experiments/lib/python3.12/site-packages/sklearn/metrics/_classification.py:1706: UndefinedMetricWarning: Precision is ill-defined and being set to 0.0 in labels with no predicted samples. Use `zero_division` parameter to control this behavior.\n",
      "  _warn_prf(average, modifier, f\"{metric.capitalize()} is\", result.shape[0])\n",
      "/home/tarun/miniconda3/envs/own-ml-dl-experiments/lib/python3.12/site-packages/sklearn/metrics/_classification.py:1706: UndefinedMetricWarning: Precision is ill-defined and being set to 0.0 in labels with no predicted samples. Use `zero_division` parameter to control this behavior.\n",
      "  _warn_prf(average, modifier, f\"{metric.capitalize()} is\", result.shape[0])\n",
      "/home/tarun/miniconda3/envs/own-ml-dl-experiments/lib/python3.12/site-packages/sklearn/metrics/_classification.py:1706: UndefinedMetricWarning: Precision is ill-defined and being set to 0.0 in labels with no predicted samples. Use `zero_division` parameter to control this behavior.\n",
      "  _warn_prf(average, modifier, f\"{metric.capitalize()} is\", result.shape[0])\n",
      "/home/tarun/miniconda3/envs/own-ml-dl-experiments/lib/python3.12/site-packages/sklearn/metrics/_classification.py:1706: UndefinedMetricWarning: Precision is ill-defined and being set to 0.0 in labels with no predicted samples. Use `zero_division` parameter to control this behavior.\n",
      "  _warn_prf(average, modifier, f\"{metric.capitalize()} is\", result.shape[0])\n",
      "/home/tarun/miniconda3/envs/own-ml-dl-experiments/lib/python3.12/site-packages/sklearn/metrics/_classification.py:1706: UndefinedMetricWarning: Precision is ill-defined and being set to 0.0 in labels with no predicted samples. Use `zero_division` parameter to control this behavior.\n",
      "  _warn_prf(average, modifier, f\"{metric.capitalize()} is\", result.shape[0])\n",
      "/home/tarun/miniconda3/envs/own-ml-dl-experiments/lib/python3.12/site-packages/sklearn/metrics/_classification.py:1706: UndefinedMetricWarning: Precision is ill-defined and being set to 0.0 in labels with no predicted samples. Use `zero_division` parameter to control this behavior.\n",
      "  _warn_prf(average, modifier, f\"{metric.capitalize()} is\", result.shape[0])\n"
     ]
    }
   ],
   "source": [
    "# predict and evaluate\n",
    "y_pred = ann_model.predict(X_test)\n",
    "y_pred_classes = np.argmax(y_pred, axis=1) + 3  # 3-8\n",
    "y_test_classes = np.argmax(y_test, axis=1) + 3\n",
    "accuracy = accuracy_score(y_test_classes, y_pred_classes)\n",
    "conf_matrix = confusion_matrix(y_test_classes, y_pred_classes)\n",
    "class_report = classification_report(y_test_classes, y_pred_classes, output_dict=True)\n",
    "\n",
    "print(f'Accuracy: {accuracy:.2f}')\n",
    "print('Confusion Matrix:')\n",
    "print(conf_matrix)\n",
    "print('Classification Report:')\n",
    "print(classification_report(y_test_classes, y_pred_classes))"
   ]
  },
  {
   "cell_type": "code",
   "execution_count": 7,
   "id": "44c8e930",
   "metadata": {},
   "outputs": [
    {
     "data": {
      "image/png": "[encoded data removed]",
      "text/plain": [
       "<Figure size 1200x400 with 2 Axes>"
      ]
     },
     "metadata": {},
     "output_type": "display_data"
    }
   ],
   "source": [
    "# visualize training history\n",
    "plt.figure(figsize=(12, 4))\n",
    "plt.subplot(1, 2, 1)\n",
    "plt.plot(history.history['accuracy'], label='Training Accuracy')\n",
    "plt.plot(history.history['val_accuracy'], label='Validation Accuracy')\n",
    "plt.title('Model Accuracy')\n",
    "plt.xlabel('Epoch')\n",
    "plt.ylabel('Accuracy')\n",
    "plt.legend()\n",
    "plt.subplot(1, 2, 2)\n",
    "plt.plot(history.history['loss'], label='Training Loss')\n",
    "plt.plot(history.history['val_loss'], label='Validation Loss')\n",
    "plt.title('Model Loss')\n",
    "plt.xlabel('Epoch')\n",
    "plt.ylabel('Loss')\n",
    "plt.legend()\n",
    "plt.show()"
   ]
  },
  {
   "cell_type": "code",
   "execution_count": 8,
   "id": "8b5f314b",
   "metadata": {},
   "outputs": [
    {
     "name": "stderr",
     "output_type": "stream",
     "text": [
      "WARNING:absl:You are saving your model as an HDF5 file via `model.save()` or `keras.saving.save_model(model)`. This file format is considered legacy. We recommend using instead the native Keras format, e.g. `model.save('my_model.keras')` or `keras.saving.save_model(model, 'my_model.keras')`. \n"
     ]
    },
    {
     "name": "stdout",
     "output_type": "stream",
     "text": [
      "Model saved as ./13_ann_articifical_neural_network/model/wine_quality_ann_model.h5\n",
      "Scaler saved as ./13_ann_articifical_neural_network/model/wine_quality_scaler.pkl\n"
     ]
    }
   ],
   "source": [
    "# save the model and scaler in a 'model' subdirectory\n",
    "model_dir = project_dir + '/model' \n",
    "os.makedirs(model_dir, exist_ok=True)\n",
    "model_filename = os.path.join(model_dir, 'wine_quality_ann_model.h5')\n",
    "scaler_filename = os.path.join(model_dir, 'wine_quality_scaler.pkl')\n",
    "ann_model.save(model_filename)\n",
    "joblib.dump(scaler, scaler_filename)\n",
    "print(f'Model saved as {model_filename}')\n",
    "print(f'Scaler saved as {scaler_filename}')"
   ]
  },
  {
   "cell_type": "code",
   "execution_count": 9,
   "id": "7eeef9e5",
   "metadata": {},
   "outputs": [
    {
     "name": "stderr",
     "output_type": "stream",
     "text": [
      "WARNING:absl:Compiled the loaded model, but the compiled metrics have yet to be built. `model.compile_metrics` will be empty until you train or evaluate the model.\n"
     ]
    },
    {
     "name": "stdout",
     "output_type": "stream",
     "text": [
      "\u001b[1m1/1\u001b[0m \u001b[32m━━━━━━━━━━━━━━━━━━━━\u001b[0m\u001b[37m\u001b[0m \u001b[1m0s\u001b[0m 179ms/step\n",
      "Predicted Wine Quality for sample input: 5\n"
     ]
    }
   ],
   "source": [
    "# load the PCA model and scaler, and run a transformation test\n",
    "loaded_model = tf.keras.models.load_model(model_filename)\n",
    "loaded_scaler = joblib.load(scaler_filename)\n",
    "sample_data = pd.DataFrame(\n",
    "    [[7.4, 0.7, 0.0, 1.9, 0.076, 11.0, 34.0, 0.9978, 3.51, 0.56, 9.4, 8.1]],\n",
    "    columns=features\n",
    ")\n",
    "sample_input_scaled = loaded_scaler.transform(sample_data)\n",
    "sample_prediction = loaded_model.predict(sample_input_scaled)\n",
    "sample_prediction_class = np.argmax(sample_prediction, axis=1) + 3\n",
    "print(f'Predicted Wine Quality for sample input: {sample_prediction_class[0]}')"
   ]
  }
 ],
 "metadata": {
  "kernelspec": {
   "display_name": "own-ml-dl-experiments",
   "language": "python",
   "name": "python3"
  },
  "language_info": {
   "codemirror_mode": {
    "name": "ipython",
    "version": 3
   },
   "file_extension": ".py",
   "mimetype": "text/x-python",
   "name": "python",
   "nbconvert_exporter": "python",
   "pygments_lexer": "ipython3",
   "version": "3.12.11"
  }
 },
 "nbformat": 4,
 "nbformat_minor": 5
}
