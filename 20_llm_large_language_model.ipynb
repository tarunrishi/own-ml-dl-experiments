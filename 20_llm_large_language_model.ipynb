{
 "cells": [
  {
   "cell_type": "markdown",
   "id": "37233961",
   "metadata": {},
   "source": [
    "# Large Language Model (LLM) from Scratch\n",
    "### A Large Language Model (LLM) is a foundational generative AI model designed to understand and generate human-like text by learning patterns from large text corpora. It assumes that text sequences follow probabilistic patterns that can be modeled with transformer architectures, making it highly effective for tasks like text generation when trained on diverse data. This flexibility enables rapid prototyping for applications like advice generation. However, its computational intensity and need for large datasets can limit performance without significant resources.\n",
    "\n",
    "### Use LLM as a baseline model for text generation, refining it based on the use case.\n",
    "\n",
    "| Aspect | Details |\n",
    "| :- | :- |\n",
    "| Use For           | Text generation (e.g., generating financial advice)<br>Can be extended to question answering or summarization |\n",
    "| Key Assumptions   | - Text sequences follow learnable patterns<br>- Sufficient data for training<br>- Adequate computational resources |\n",
    "| Advantages        | - Generates coherent, context-aware text<br>- Highly flexible for various tasks<br>- Customizable for specific domains |\n",
    "| Disadvantages     | - Computationally intensive to train<br>- Prone to overfitting without regularization<br>- Requires large datasets |\n",
    "| Avoid When        | - Limited computational resources<br>- Small or noisy datasets<br>- Real-time applications without pre-training |\n",
    "| Real-World Use Case | Advice generation (e.g., creating budget tips from prompts)<br>Summarisation <br>Chatbot responses for user queries |"
   ]
  },
  {
   "cell_type": "markdown",
   "id": "3c0721f5",
   "metadata": {},
   "source": [
    "## Problem Description\n",
    "### Generate coherent text sequences using a small transformer-based LLM trained from scratch on the Gutenberg Project dataset. This is a text generation task where the model learns to predict the next token in a sequence, optimized for memory efficiency.\n",
    "\n",
    "Using the Gutenberg Project dataset from Project Gutenberg: https://www.gutenberg.org/"
   ]
  },
  {
   "cell_type": "code",
   "execution_count": 14,
   "id": "a00277b2",
   "metadata": {},
   "outputs": [],
   "source": [
    "import numpy as np\n",
    "import pandas as pd\n",
    "import tensorflow as tf\n",
    "from tensorflow.keras.layers import Input, Dense, MultiHeadAttention, LayerNormalization, Dropout\n",
    "from tensorflow.keras.models import Model\n",
    "from tensorflow.keras.optimizers import Adam\n",
    "from tensorflow.keras.callbacks import EarlyStopping, ReduceLROnPlateau\n",
    "import matplotlib.pyplot as plt\n",
    "import nltk\n",
    "from nltk.tokenize import word_tokenize\n",
    "from nltk.translate.bleu_score import sentence_bleu\n",
    "from rouge_score import rouge_scorer\n",
    "from collections import Counter\n",
    "from datasets import load_dataset\n",
    "import os"
   ]
  },
  {
   "cell_type": "code",
   "execution_count": 15,
   "id": "82b910a3",
   "metadata": {},
   "outputs": [],
   "source": [
    "project_dir = './20_llm_large_language_model'\n",
    "data_dir = os.path.join(project_dir, 'data')\n",
    "model_dir = os.path.join(project_dir, 'model')\n",
    "log_dir = os.path.join(project_dir, 'logs')"
   ]
  },
  {
   "cell_type": "code",
   "execution_count": 16,
   "id": "0b634c37",
   "metadata": {},
   "outputs": [],
   "source": [
    "def setup_gpu():\n",
    "    ## tf version\n",
    "    print(\"TensorFlow version:\", tf.__version__)\n",
    "\n",
    "    #### GPU Optimisation code ####\n",
    "    physical_devices = tf.config.list_physical_devices('GPU')\n",
    "    if physical_devices:\n",
    "        print(\"GPU available:\", physical_devices)\n",
    "    else:\n",
    "        print(\"No GPU found, using CPU.\")\n",
    "        return\n",
    "\n",
    "    print(\"GPUs: Allocate GPU Memory and create a new session\")\n",
    "\n",
    "    # Get the GPU memory fraction to allocate\n",
    "    gpu_memory_fraction = 0.5\n",
    "\n",
    "    # Create GPUOptions with the fraction of GPU memory to allocate\n",
    "    gpu_options = tf.compat.v1.GPUOptions(per_process_gpu_memory_fraction=gpu_memory_fraction)\n",
    "\n",
    "    # Create a session with the GPUOptions\n",
    "    session = tf.compat.v1.Session(config=tf.compat.v1.ConfigProto(gpu_options=gpu_options))"
   ]
  },
  {
   "cell_type": "code",
   "execution_count": 17,
   "id": "5735cf1b",
   "metadata": {},
   "outputs": [
    {
     "name": "stdout",
     "output_type": "stream",
     "text": [
      "TensorFlow version: 2.19.0\n",
      "GPU available: [PhysicalDevice(name='/physical_device:GPU:0', device_type='GPU')]\n",
      "GPUs: Allocate GPU Memory and create a new session\n"
     ]
    },
    {
     "name": "stderr",
     "output_type": "stream",
     "text": [
      "I0000 00:00:1751556241.630780 2779908 gpu_device.cc:2019] Created device /job:localhost/replica:0/task:0/device:GPU:0 with 5119 MB memory:  -> device: 0, name: NVIDIA GeForce RTX 3080, pci bus id: 0000:01:00.0, compute capability: 8.6\n"
     ]
    }
   ],
   "source": [
    "setup_gpu()"
   ]
  },
  {
   "cell_type": "code",
   "execution_count": 18,
   "id": "1b6b843e",
   "metadata": {},
   "outputs": [
    {
     "name": "stderr",
     "output_type": "stream",
     "text": [
      "[nltk_data] Downloading package punkt_tab to /home/tarun/nltk_data...\n",
      "[nltk_data]   Package punkt_tab is already up-to-date!\n"
     ]
    },
    {
     "data": {
      "text/plain": [
       "True"
      ]
     },
     "execution_count": 18,
     "metadata": {},
     "output_type": "execute_result"
    }
   ],
   "source": [
    "# download NLTK data for tokenization\n",
    "nltk.download('punkt', quiet=True)\n",
    "nltk.download('punkt_tab')"
   ]
  },
  {
   "cell_type": "code",
   "execution_count": 19,
   "id": "20d916c3",
   "metadata": {},
   "outputs": [],
   "source": [
    "# load OpenWebText dataset (using Hugging Face datasets for simplicity)\n",
    "def load_openwebtext_financial(batch_size=1000):\n",
    "    \"\"\"\n",
    "    Load OpenWebText dataset and filter for financial advice-related texts.\n",
    "    Uses keyword matching to identify financial content.\n",
    "    \"\"\"\n",
    "    dataset = load_dataset(\"openwebtext\", split=\"train\", streaming=True)\n",
    "    financial_keywords = [\"finance\", \"investment\", \"budget\", \"money\", \"savings\", \"stocks\", \"retirement\", \"debt\", \"credit\", \"tax\"]\n",
    "\n",
    "    def is_financial(text):\n",
    "        return any(keyword in text.lower() for keyword in financial_keywords)\n",
    "\n",
    "    financial_texts = []\n",
    "    for example in dataset:\n",
    "        if is_financial(example['text']):\n",
    "            financial_texts.append(example['text'])\n",
    "            if len(financial_texts) >= batch_size:\n",
    "                yield financial_texts\n",
    "                financial_texts = []\n",
    "    if financial_texts:\n",
    "        yield financial_texts"
   ]
  },
  {
   "cell_type": "code",
   "execution_count": 20,
   "id": "cc5afbd2",
   "metadata": {},
   "outputs": [],
   "source": [
    "# tokenize and create vocabulary\n",
    "def preprocess_text(texts, vocab_size=1000, seq_length=20, max_sequences=15000):\n",
    "    \"\"\"\n",
    "    Tokenize and create sequences, limiting to max_sequences for memory control.\n",
    "    \n",
    "    Parameters:\n",
    "    - texts: List of text strings\n",
    "    - vocab_size: Number of unique words to keep (default 1000)\n",
    "    - seq_length: Length of each sequence (default 20)\n",
    "    - max_sequences: Maximum number of sequences to generate (default 2000)\n",
    "    \"\"\"\n",
    "    all_tokens = []\n",
    "    for text in texts:\n",
    "        tokens = word_tokenize(text.lower())\n",
    "        all_tokens.extend(tokens)\n",
    "\n",
    "    word_counts = Counter(all_tokens)\n",
    "    most_common_words = [word for word, _ in word_counts.most_common(vocab_size - 1)]\n",
    "    vocab = {word: idx + 1 for idx, word in enumerate(most_common_words)}\n",
    "    vocab['<PAD>'] = 0\n",
    "\n",
    "    token_ids = [vocab.get(token, 0) for token in all_tokens]\n",
    "    sequences = [token_ids[i:i + seq_length] for i in range(0, len(token_ids) - seq_length, seq_length)]\n",
    "    sequences = sequences[:max_sequences]\n",
    "    sequences = [seq + [0] * (seq_length - len(seq)) for seq in sequences]\n",
    "    return np.array(sequences), vocab"
   ]
  },
  {
   "cell_type": "code",
   "execution_count": 21,
   "id": "21612e36",
   "metadata": {},
   "outputs": [],
   "source": [
    "# generate sample text\n",
    "def generate_text(model, vocab, seed_text, seq_length=20, length=50, temperature=0.7):\n",
    "    inv_vocab = {v: k for k, v in vocab.items()}\n",
    "    tokens = [vocab.get(word, 0) for word in word_tokenize(seed_text.lower())]\n",
    "    tokens = tokens[:seq_length - 1] + [0] * (seq_length - 1 - len(tokens))\n",
    "    for _ in range(length):\n",
    "        input_seq = np.array([tokens[-(seq_length - 1):]])\n",
    "        pred = model.predict(input_seq, verbose=0)\n",
    "        # Apply temperature sampling\n",
    "        pred = np.log(pred + 1e-10) / temperature  # Avoid log(0)\n",
    "        pred = np.exp(pred) / np.sum(np.exp(pred))  # Softmax with temperature\n",
    "        next_token = np.argmax(pred[0, -1])  # Still use argmax for simplicity, can use random.choice for true sampling\n",
    "        tokens.append(next_token)\n",
    "    return ' '.join([inv_vocab.get(t, '<PAD>') for t in tokens])\n"
   ]
  },
  {
   "cell_type": "code",
   "execution_count": null,
   "id": "d1f1e651",
   "metadata": {},
   "outputs": [
    {
     "ename": "",
     "evalue": "",
     "output_type": "error",
     "traceback": [
      "\u001b[1;31mThe Kernel crashed while executing code in the current cell or a previous cell. \n",
      "\u001b[1;31mPlease review the code in the cell(s) to identify a possible cause of the failure. \n",
      "\u001b[1;31mClick <a href='https://aka.ms/vscodeJupyterKernelCrash'>here</a> for more info. \n",
      "\u001b[1;31mView Jupyter <a href='command:jupyter.viewOutput'>log</a> for further details."
     ]
    }
   ],
   "source": [
    "# calculate perplexity\n",
    "def calculate_perplexity(model, X, y):\n",
    "    loss = model.evaluate(X, y, verbose=0)[0]\n",
    "    return np.exp(loss)\n",
    "\n",
    "# calculate BLEU score\n",
    "def calculate_bleu(model, vocab, seed_text, reference_texts):\n",
    "    generated = generate_text(model, vocab, seed_text).split()\n",
    "    references = [ref.split() for ref in reference_texts]\n",
    "    return sentence_bleu(references, generated)\n",
    "\n",
    "# calculate ROUGE score\n",
    "def calculate_rouge(model, vocab, seed_text, reference_texts):\n",
    "    scorer = rouge_scorer.RougeScorer(['rouge1', 'rouge2'], use_stemmer=True)\n",
    "    generated = generate_text(model, vocab, seed_text)\n",
    "    scores = [scorer.score(ref, generated) for ref in reference_texts]\n",
    "    avg_scores = {\n",
    "        'rouge1': np.mean([s['rouge1'].fmeasure for s in scores]),\n",
    "        'rouge2': np.mean([s['rouge2'].fmeasure for s in scores])\n",
    "    }\n",
    "    return avg_scores"
   ]
  },
  {
   "cell_type": "code",
   "execution_count": null,
   "id": "4e250c31",
   "metadata": {},
   "outputs": [],
   "source": [
    "# load and preprocess data in batches\n",
    "batch_size = 100000  # Adjust based on memory constraints\n",
    "financial_batches = load_openwebtext_financial(batch_size=batch_size)\n",
    "\n",
    "# load and preprocess data\n",
    "texts = next(financial_batches)\n",
    "sequences, vocab = preprocess_text(texts, vocab_size=1000, seq_length=20, max_sequences=10000)\n",
    "seq_length = sequences.shape[1]\n",
    "X_train = sequences[:, :-1]\n",
    "y_train = tf.keras.utils.to_categorical(sequences[:, 1:], num_classes=len(vocab))"
   ]
  },
  {
   "cell_type": "code",
   "execution_count": null,
   "id": "d3784388",
   "metadata": {},
   "outputs": [],
   "source": [
    "# define a simple transformer model\n",
    "def build_transformer(vocab_size, seq_length, d_model=32, num_heads=2):\n",
    "    inputs = Input(shape=(seq_length,))\n",
    "    x = tf.keras.layers.Embedding(vocab_size, d_model)(inputs)\n",
    "    x = MultiHeadAttention(num_heads=num_heads, key_dim=d_model//num_heads)(x, x)\n",
    "    x = LayerNormalization(epsilon=1e-6)(x)\n",
    "    x = Dropout(0.85)(x)  # Increased dropout rate\n",
    "    x = Dense(d_model, activation='relu', kernel_regularizer=tf.keras.regularizers.l2(0.15))(x)  # Stronger L2 regularization\n",
    "    x = Dropout(0.85)(x)\n",
    "    outputs = Dense(vocab_size, activation='softmax')(x)\n",
    "    model = Model(inputs, outputs)\n",
    "    return model"
   ]
  },
  {
   "cell_type": "code",
   "execution_count": null,
   "id": "666fbee1",
   "metadata": {},
   "outputs": [
    {
     "name": "stderr",
     "output_type": "stream",
     "text": [
      "I0000 00:00:1751555846.771411 2779908 gpu_device.cc:2019] Created device /job:localhost/replica:0/task:0/device:GPU:0 with 5119 MB memory:  -> device: 0, name: NVIDIA GeForce RTX 3080, pci bus id: 0000:01:00.0, compute capability: 8.6\n"
     ]
    }
   ],
   "source": [
    "# build and compile model\n",
    "model = build_transformer(vocab_size=len(vocab), seq_length=X_train.shape[1])\n",
    "model.compile(\n",
    "    optimizer=Adam(learning_rate=1e-4, clipvalue=1.0),  # Clip gradients at 1.0\n",
    "    loss='categorical_crossentropy',\n",
    "    metrics=['accuracy']\n",
    ")\n",
    "\n",
    "# define callbacks\n",
    "early_stopping = EarlyStopping(monitor='val_loss', patience=22, restore_best_weights=True)\n",
    "reduce_lr = ReduceLROnPlateau(monitor='val_loss', factor=0.1, patience=10, min_lr=1e-6)"
   ]
  },
  {
   "cell_type": "code",
   "execution_count": null,
   "id": "7175e793",
   "metadata": {},
   "outputs": [
    {
     "ename": "SyntaxError",
     "evalue": "invalid syntax. Perhaps you forgot a comma? (1941737026.py, line 2)",
     "output_type": "error",
     "traceback": [
      "  \u001b[36mCell\u001b[39m\u001b[36m \u001b[39m\u001b[32mIn[13]\u001b[39m\u001b[32m, line 2\u001b[39m\n\u001b[31m    \u001b[39m\u001b[31mhistory = model.fit(X_train, y_train, batch_size=32 epochs=1000, validation_split=0.2, verbose=1,\u001b[39m\n                                                     ^\n\u001b[31mSyntaxError\u001b[39m\u001b[31m:\u001b[39m invalid syntax. Perhaps you forgot a comma?\n"
     ]
    }
   ],
   "source": [
    "# train model\n",
    "history = model.fit(X_train, y_train, batch_size=32, epochs=1000, validation_split=0.2, verbose=1,\n",
    "                    callbacks=[early_stopping, reduce_lr])"
   ]
  },
  {
   "cell_type": "code",
   "execution_count": null,
   "id": "9166ad66",
   "metadata": {},
   "outputs": [
    {
     "name": "stdout",
     "output_type": "stream",
     "text": [
      "\n",
      "### Model Evaluation\n",
      "Final Validation Accuracy: 0.2802\n"
     ]
    }
   ],
   "source": [
    "# Evaluate the model\n",
    "print(\"\\n### Model Evaluation\")\n",
    "\n",
    "# accuracy from training history\n",
    "final_val_accuracy = history.history['val_accuracy'][-1]\n",
    "print(f\"Final Validation Accuracy: {final_val_accuracy:.4f}\")"
   ]
  },
  {
   "cell_type": "code",
   "execution_count": null,
   "id": "cdc02ccc",
   "metadata": {},
   "outputs": [
    {
     "data": {
      "image/png": "[encoded data removed]",
      "text/plain": [
       "<Figure size 1200x400 with 2 Axes>"
      ]
     },
     "metadata": {},
     "output_type": "display_data"
    }
   ],
   "source": [
    "# visualize training history\n",
    "plt.figure(figsize=(12, 4))\n",
    "plt.subplot(1, 2, 1)\n",
    "plt.plot(history.history['accuracy'], label='Training Accuracy')\n",
    "plt.plot(history.history['val_accuracy'], label='Validation Accuracy')\n",
    "plt.title('Model Accuracy')\n",
    "plt.xlabel('Epoch')\n",
    "plt.ylabel('Accuracy')\n",
    "plt.legend()\n",
    "\n",
    "plt.subplot(1, 2, 2)\n",
    "plt.plot(history.history['loss'], label='Training Loss')\n",
    "plt.plot(history.history['val_loss'], label='Validation Loss')\n",
    "plt.title('Model Loss')\n",
    "plt.xlabel('Epoch')\n",
    "plt.ylabel('Loss')\n",
    "plt.legend()\n",
    "plt.show()"
   ]
  },
  {
   "cell_type": "code",
   "execution_count": null,
   "id": "72b1802e",
   "metadata": {},
   "outputs": [
    {
     "name": "stderr",
     "output_type": "stream",
     "text": [
      "2025-07-03 11:58:20.016101: I external/local_xla/xla/stream_executor/cuda/subprocess_compilation.cc:346] ptxas warning : Registers are spilled to local memory in function 'gemm_fusion_dot_7', 16 bytes spill stores, 16 bytes spill loads\n",
      "\n",
      "2025-07-03 11:58:20.093959: I external/local_xla/xla/stream_executor/cuda/subprocess_compilation.cc:346] ptxas warning : Registers are spilled to local memory in function 'gemm_fusion_dot_7', 128 bytes spill stores, 128 bytes spill loads\n",
      "\n"
     ]
    },
    {
     "name": "stdout",
     "output_type": "stream",
     "text": [
      "Perplexity: 52.05\n"
     ]
    },
    {
     "name": "stderr",
     "output_type": "stream",
     "text": [
      "2025-07-03 11:58:22.494415: I external/local_xla/xla/stream_executor/cuda/subprocess_compilation.cc:346] ptxas warning : Registers are spilled to local memory in function 'gemm_fusion_dot_11', 8 bytes spill stores, 8 bytes spill loads\n",
      "\n",
      "/home/tarun/miniconda3/envs/own-ml-dl-experiments/lib/python3.12/site-packages/nltk/translate/bleu_score.py:577: UserWarning: \n",
      "The hypothesis contains 0 counts of 2-gram overlaps.\n",
      "Therefore the BLEU score evaluates to 0, independently of\n",
      "how many N-gram overlaps of lower order it contains.\n",
      "Consider using lower n-gram order or use SmoothingFunction()\n",
      "  warnings.warn(_msg)\n",
      "/home/tarun/miniconda3/envs/own-ml-dl-experiments/lib/python3.12/site-packages/nltk/translate/bleu_score.py:577: UserWarning: \n",
      "The hypothesis contains 0 counts of 3-gram overlaps.\n",
      "Therefore the BLEU score evaluates to 0, independently of\n",
      "how many N-gram overlaps of lower order it contains.\n",
      "Consider using lower n-gram order or use SmoothingFunction()\n",
      "  warnings.warn(_msg)\n",
      "/home/tarun/miniconda3/envs/own-ml-dl-experiments/lib/python3.12/site-packages/nltk/translate/bleu_score.py:577: UserWarning: \n",
      "The hypothesis contains 0 counts of 4-gram overlaps.\n",
      "Therefore the BLEU score evaluates to 0, independently of\n",
      "how many N-gram overlaps of lower order it contains.\n",
      "Consider using lower n-gram order or use SmoothingFunction()\n",
      "  warnings.warn(_msg)\n"
     ]
    },
    {
     "name": "stdout",
     "output_type": "stream",
     "text": [
      "BLEU Score: 0.00\n",
      "ROUGE Scores: ROUGE-1: 0.01, ROUGE-2: 0.00\n"
     ]
    }
   ],
   "source": [
    "# benchmark tests\n",
    "\n",
    "# Perplexity\n",
    "perplexity = calculate_perplexity(model, X_train, y_train)\n",
    "print(f\"Perplexity: {perplexity:.2f}\")\n",
    "\n",
    "# BLEU score\n",
    "reference_texts = [\"save money by budgeting monthly\", \"invest in stocks for long-term growth\"]\n",
    "bleu_score = calculate_bleu(model, vocab, \"Financial advice for\", reference_texts)\n",
    "print(f\"BLEU Score: {bleu_score:.2f}\")\n",
    "\n",
    "# ROUGE score\n",
    "rouge_scores = calculate_rouge(model, vocab, \"Financial advice for\", reference_texts)\n",
    "print(f\"ROUGE Scores: ROUGE-1: {rouge_scores['rouge1']:.2f}, ROUGE-2: {rouge_scores['rouge2']:.2f}\")"
   ]
  },
  {
   "cell_type": "code",
   "execution_count": null,
   "id": "06493c94",
   "metadata": {},
   "outputs": [
    {
     "name": "stdout",
     "output_type": "stream",
     "text": [
      "Sample Test Results:\n",
      "                                   Seed Prompt  \\\n",
      "0               Financial advice for investing   \n",
      "1                            How to save money   \n",
      "2                       Investing in stocks is   \n",
      "3                           Budgeting tips for   \n",
      "4                 Retirement planning involves   \n",
      "5           Managing debt effectively requires   \n",
      "6  Credit score improvement strategies include   \n",
      "7                 Emergency funds should cover   \n",
      "8                   Tax-saving investments can   \n",
      "9                 Financial independence means   \n",
      "\n",
      "                                      Generated Text  \n",
      "0  financial <PAD> for <PAD> <PAD> <PAD> <PAD> <P...  \n",
      "1  how to <PAD> money <PAD> <PAD> <PAD> <PAD> <PA...  \n",
      "2  <PAD> in <PAD> is <PAD> <PAD> <PAD> <PAD> <PAD...  \n",
      "3  <PAD> <PAD> for <PAD> <PAD> <PAD> <PAD> <PAD> ...  \n",
      "4  <PAD> <PAD> <PAD> <PAD> <PAD> <PAD> <PAD> <PAD...  \n",
      "5  <PAD> debt <PAD> <PAD> <PAD> <PAD> <PAD> <PAD>...  \n",
      "6  credit <PAD> <PAD> <PAD> include <PAD> <PAD> <...  \n",
      "7  <PAD> <PAD> should <PAD> <PAD> <PAD> <PAD> <PA...  \n",
      "8  <PAD> <PAD> can <PAD> <PAD> <PAD> <PAD> <PAD> ...  \n",
      "9  financial <PAD> means <PAD> <PAD> <PAD> <PAD> ...  \n"
     ]
    }
   ],
   "source": [
    "seed_prompts = [\n",
    "    \"Financial advice for investing\",\n",
    "    \"How to save money\",\n",
    "    \"Investing in stocks is\",\n",
    "    \"Budgeting tips for\",\n",
    "    \"Retirement planning involves\",\n",
    "    \"Managing debt effectively requires\",\n",
    "    \"Credit score improvement strategies include\",\n",
    "    \"Emergency funds should cover\",\n",
    "    \"Tax-saving investments can\",\n",
    "    \"Financial independence means\"\n",
    "]\n",
    "\n",
    "generated_texts = [generate_text(model, vocab, prompt) for prompt in seed_prompts]\n",
    "results = pd.DataFrame({\n",
    "    'Seed Prompt': seed_prompts,\n",
    "    'Generated Text': generated_texts\n",
    "})\n",
    "print(\"Sample Test Results:\")\n",
    "print(results)"
   ]
  },
  {
   "cell_type": "code",
   "execution_count": null,
   "id": "a526f0f7",
   "metadata": {},
   "outputs": [
    {
     "name": "stderr",
     "output_type": "stream",
     "text": [
      "WARNING:absl:You are saving your model as an HDF5 file via `model.save()` or `keras.saving.save_model(model)`. This file format is considered legacy. We recommend using instead the native Keras format, e.g. `model.save('my_model.keras')` or `keras.saving.save_model(model, 'my_model.keras')`. \n"
     ]
    },
    {
     "name": "stdout",
     "output_type": "stream",
     "text": [
      "Model saved successfully.\n"
     ]
    }
   ],
   "source": [
    "# save model\n",
    "model.save(os.path.join(model_dir, 'llm_from_scratch.h5'))\n",
    "print(\"Model saved successfully.\")"
   ]
  }
 ],
 "metadata": {
  "kernelspec": {
   "display_name": "own-ml-dl-experiments",
   "language": "python",
   "name": "python3"
  },
  "language_info": {
   "codemirror_mode": {
    "name": "ipython",
    "version": 3
   },
   "file_extension": ".py",
   "mimetype": "text/x-python",
   "name": "python",
   "nbconvert_exporter": "python",
   "pygments_lexer": "ipython3",
   "version": "3.12.11"
  }
 },
 "nbformat": 4,
 "nbformat_minor": 5
}
